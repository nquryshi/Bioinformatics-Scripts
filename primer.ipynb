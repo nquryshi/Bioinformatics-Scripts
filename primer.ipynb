{
 "cells": [
  {
   "cell_type": "code",
   "execution_count": 12,
   "metadata": {},
   "outputs": [],
   "source": [
    "import primer3 "
   ]
  },
  {
   "cell_type": "code",
   "execution_count": 13,
   "metadata": {},
   "outputs": [],
   "source": [
    "alt_map = {'ins':'0'}\n",
    "complement = {'A': 'T', 'C': 'G', 'G': 'C', 'T': 'A'} \n",
    "\n",
    "def reverse_complement(seq):    \n",
    "    for k,v in alt_map.items():\n",
    "        seq = seq.replace(k,v)\n",
    "    bases = list(seq) \n",
    "    bases = reversed([complement.get(base,base) for base in bases])\n",
    "    bases = ''.join(bases)\n",
    "    for k,v in alt_map.items():\n",
    "        bases = bases.replace(v,k)\n",
    "    return bases"
   ]
  },
  {
   "cell_type": "code",
   "execution_count": 44,
   "metadata": {},
   "outputs": [],
   "source": [
    "sequence = 'ATGAGCAGCCCGGATGCGGGATACGCCAGTGACGACCAGAGCCAGACCCAGAGCGCGCTGCCCGCGGTGATGGCCGGGCTGGGCCCCTGCCCCTGGGCCGAGTCGCTGAGCCCCATCGGGGACATGAAGGTGAAGGGCGAGGCGCCGGCGAACAGCGGAGCACCGGCCGGGGCCGCGGGCCGAGCCAAGGGCGAGTCCCGTATCCGGCGGCCGATGAACGCTTTCATGGTGTGGGCTAAGGACGAGCGCAAGCGGCTGGCGCAGCAGAATCCAGACCTGCACAACGCCGAGTTGAGCAAGATGCTGGGCAAGTCGTGGAAGGCGCTGACGCTGGCGGAGAAGCGGCCCTTCGTGGAGGAGGCAGAGCGGCTGCGCGTGCAGCACATGCAGGACCACCCCAACTACAAGTACCGGCCGCGGCGGCGCAAGCAGGTGAAGCGGCTGAAGCGGGTGGAGGGCGGCTTCCTGCACGGCCTGGCTGAGCCGCAGGCGGCCGCGCTGGGCCCCGAGGGCGGCCGCGTGGCCATGGACGGCCTGGGCCTCCAGTTCCCCGAGCAGGGCTTCCCCGCCGGCCCGCCGCTGCTGCCTCCGCACATGGGCGGCCACTACCGCGACTGCCAGAGTCTGGGCGCGCCTCCGCTCGACGGCTACCCGTTGCCCACGCCCGACACGTCCCCGCTGGACGGCGTGGACCCCGACCCGGCTTTCTTCGCCGCCCCGATGCCCGGGGACTGCCCGGCGGCCGGCACCTACAGCTACGCGCAGGTCTCGGACTACGCTGGCCCCCCGGAGCCTCCCGCCGGTCCCATGCACCCCCGACTCGGCCCAGAGCCCGCGGGTCCCTCGATTCCGGGCCTCCTGGCGCCACCCAGCGCCCTTCACGTGTACTACGGCGCGATGGGCTCGCCCGGGGCGGGCGGCGGGCGCGGCTTCCAGATGCAGCCGCAACACCAGCACCAGCACCAGCACCAGCACCACCCCCCGGGCCCCGGACAGCCGTCGCCCCCTCCGGAGGCACTGCCCTGCCGGGACGGCACGGACCCCAGTCAGCCCGCCGAGCTCCTCGGGGAGGTGGACCGCACGGAATTTGAACAGTATCTGCACTTCGTGTGCAAGCCTGAGATGGGCCTCCCCTACCAGGGGCATGACTCCGGTGTGAATCTCCCCGACAGCCACGGGGCCATTTCCTCGGTGGTGTCCGACGCCAGCTCCGCGGTATATTACTGCAACTATCCTGACGTGTGA'"
   ]
  },
  {
   "cell_type": "code",
   "execution_count": 45,
   "metadata": {},
   "outputs": [],
   "source": [
    "reverseComplement = reverse_complement(sequence)"
   ]
  },
  {
   "cell_type": "code",
   "execution_count": 46,
   "metadata": {},
   "outputs": [
    {
     "data": {
      "text/plain": [
       "'TCACACGTCAGGATAGTTGCAGTAATATACCGCGGAGCTGGCGTCGGACACCACCGAGGAAATGGCCCCGTGGCTGTCGGGGAGATTCACACCGGAGTCATGCCCCTGGTAGGGGAGGCCCATCTCAGGCTTGCACACGAAGTGCAGATACTGTTCAAATTCCGTGCGGTCCACCTCCCCGAGGAGCTCGGCGGGCTGACTGGGGTCCGTGCCGTCCCGGCAGGGCAGTGCCTCCGGAGGGGGCGACGGCTGTCCGGGGCCCGGGGGGTGGTGCTGGTGCTGGTGCTGGTGCTGGTGTTGCGGCTGCATCTGGAAGCCGCGCCCGCCGCCCGCCCCGGGCGAGCCCATCGCGCCGTAGTACACGTGAAGGGCGCTGGGTGGCGCCAGGAGGCCCGGAATCGAGGGACCCGCGGGCTCTGGGCCGAGTCGGGGGTGCATGGGACCGGCGGGAGGCTCCGGGGGGCCAGCGTAGTCCGAGACCTGCGCGTAGCTGTAGGTGCCGGCCGCCGGGCAGTCCCCGGGCATCGGGGCGGCGAAGAAAGCCGGGTCGGGGTCCACGCCGTCCAGCGGGGACGTGTCGGGCGTGGGCAACGGGTAGCCGTCGAGCGGAGGCGCGCCCAGACTCTGGCAGTCGCGGTAGTGGCCGCCCATGTGCGGAGGCAGCAGCGGCGGGCCGGCGGGGAAGCCCTGCTCGGGGAACTGGAGGCCCAGGCCGTCCATGGCCACGCGGCCGCCCTCGGGGCCCAGCGCGGCCGCCTGCGGCTCAGCCAGGCCGTGCAGGAAGCCGCCCTCCACCCGCTTCAGCCGCTTCACCTGCTTGCGCCGCCGCGGCCGGTACTTGTAGTTGGGGTGGTCCTGCATGTGCTGCACGCGCAGCCGCTCTGCCTCCTCCACGAAGGGCCGCTTCTCCGCCAGCGTCAGCGCCTTCCACGACTTGCCCAGCATCTTGCTCAACTCGGCGTTGTGCAGGTCTGGATTCTGCTGCGCCAGCCGCTTGCGCTCGTCCTTAGCCCACACCATGAAAGCGTTCATCGGCCGCCGGATACGGGACTCGCCCTTGGCTCGGCCCGCGGCCCCGGCCGGTGCTCCGCTGTTCGCCGGCGCCTCGCCCTTCACCTTCATGTCCCCGATGGGGCTCAGCGACTCGGCCCAGGGGCAGGGGCCCAGCCCGGCCATCACCGCGGGCAGCGCGCTCTGGGTCTGGCTCTGGTCGTCACTGGCGTATCCCGCATCCGGGCTGCTCAT'"
      ]
     },
     "execution_count": 46,
     "metadata": {},
     "output_type": "execute_result"
    }
   ],
   "source": [
    "reverseComplement"
   ]
  },
  {
   "cell_type": "code",
   "execution_count": 47,
   "metadata": {},
   "outputs": [],
   "source": [
    "def designPrimer(seq):\n",
    "    coolBool = False\n",
    "    i = 18\n",
    "    \n",
    "    for x in range(0,7):\n",
    "        tmpPrimer = seq[0:i]\n",
    "        tmpTemp = primer3.calcTm(tmpPrimer)\n",
    "        \n",
    "        if (tmpTemp >= 45 and tmpTemp <= 60):\n",
    "            print(tmpTemp)\n",
    "            return tmpPrimer\n",
    "        \n",
    "        i = i + 1\n",
    "        \n",
    "    return 1"
   ]
  },
  {
   "cell_type": "code",
   "execution_count": 48,
   "metadata": {},
   "outputs": [
    {
     "name": "stdout",
     "output_type": "stream",
     "text": [
      "57.20319484478841\n"
     ]
    },
    {
     "data": {
      "text/plain": [
       "'ATGAGCAGCCCGGATGCG'"
      ]
     },
     "execution_count": 48,
     "metadata": {},
     "output_type": "execute_result"
    }
   ],
   "source": [
    "designPrimer(sequence) # Forward"
   ]
  },
  {
   "cell_type": "code",
   "execution_count": 49,
   "metadata": {},
   "outputs": [
    {
     "name": "stdout",
     "output_type": "stream",
     "text": [
      "46.66146594827342\n"
     ]
    },
    {
     "data": {
      "text/plain": [
       "'TCACACGTCAGGATAGTT'"
      ]
     },
     "execution_count": 49,
     "metadata": {},
     "output_type": "execute_result"
    }
   ],
   "source": [
    "designPrimer(reverseComplement) # Reverse"
   ]
  },
  {
   "cell_type": "code",
   "execution_count": null,
   "metadata": {},
   "outputs": [],
   "source": []
  },
  {
   "cell_type": "code",
   "execution_count": null,
   "metadata": {},
   "outputs": [],
   "source": []
  },
  {
   "cell_type": "code",
   "execution_count": null,
   "metadata": {},
   "outputs": [],
   "source": []
  },
  {
   "cell_type": "code",
   "execution_count": null,
   "metadata": {},
   "outputs": [],
   "source": []
  }
 ],
 "metadata": {
  "kernelspec": {
   "display_name": "Python 3",
   "language": "python",
   "name": "python3"
  },
  "language_info": {
   "codemirror_mode": {
    "name": "ipython",
    "version": 3
   },
   "file_extension": ".py",
   "mimetype": "text/x-python",
   "name": "python",
   "nbconvert_exporter": "python",
   "pygments_lexer": "ipython3",
   "version": "3.7.4"
  }
 },
 "nbformat": 4,
 "nbformat_minor": 4
}
